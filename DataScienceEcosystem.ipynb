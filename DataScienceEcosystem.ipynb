{
 "cells": [
  {
   "cell_type": "markdown",
   "metadata": {},
   "source": [
    "<center>\n",
    "    <img src=\"https://cf-courses-data.s3.us.cloud-object-storage.appdomain.cloud/IBMDeveloperSkillsNetwork-DS0105EN-SkillsNetwork/labs/Module2/images/SN_web_lightmode.png\" width=\"300\" alt=\"cognitiveclass.ai logo\">\n",
    "</center>\n"
   ]
  },
  {
   "cell_type": "markdown",
   "metadata": {},
   "source": [
    "#### Add your code below following the instructions given in the course\n"
   ]
  },
  {
   "cell_type": "markdown",
   "metadata": {},
   "source": [
    "# H1:DataScienceEcosystem"
   ]
  },
  {
   "cell_type": "markdown",
   "metadata": {},
   "source": [
    "Data science Tools and Ecosystem are summarized:"
   ]
  },
  {
   "cell_type": "markdown",
   "metadata": {
    "tags": []
   },
   "source": [
    "- Apache_Spark\n",
    "- D3.js\n",
    "- IBM_SPSS\n",
    "- Julia\n",
    "- Jupyter_Notebook\n",
    "- Keras\n",
    "- Matlab\n",
    "- Matplotlib\n",
    "- NumPy\n",
    "- Pandas\n",
    "- Pytorch\n",
    "- SAPS\n",
    "- Psykit-Learn\n",
    "- SciPy\n",
    "- TensorFlow"
   ]
  },
  {
   "cell_type": "markdown",
   "metadata": {},
   "source": [
    "### ***Objectives:***"
   ]
  },
  {
   "cell_type": "markdown",
   "metadata": {},
   "source": [
    "-  ***PYTHON*** :\n",
    "How Python is used in data science: Python has become widely used in data science for areas like data manipulation, data analysis (NumPy, SciPy, Pandas) and data visualization (Matplotlib, Seaborn, Bokeh). Python is also a strong tool for machine learning and deep learning, producing watershed platforms and libraries like Scikit-Learn, PyTorch and TensorFlow.\n",
    "-  ***R*** :\n",
    "How R is used in data science: R is still considered best-suited for data mining and statistical analysis, of which it offers a wide range of options. It’s also regarded as more approachable than Python for non-developers, since it’s possible to whip up a statistical model — and a sharp-looking visualization — with just a few lines of code.\n",
    "-  ***C/C++*** :\n",
    "How C/C++ is used in data science: General-purpose language C and its object-oriented counterpart, C++, offer significant lift for high-performance data science applications and projects. C and C++ are some of the fastest and most powerful programming languages to use due to their compiled nature, making them ideal for intensive big data tasks, rapid data management and building machine learning tools. \n",
    "Additionally, machine learning libraries PyTorch and TensorFlow are both written largely low-level C++ at its core, making it important to know even if employing Python."
   ]
  },
  {
   "cell_type": "markdown",
   "metadata": {},
   "source": [
    "Some of the Popular Data Science languages are : \n",
    "\n",
    "    1. Python\n",
    "    2. R\n",
    "    3. C/C++\n",
    "    4. SQL\n",
    "    5. Java\n",
    "    6. JavaScript"
   ]
  },
  {
   "cell_type": "markdown",
   "metadata": {},
   "source": [
    "# ***Some of the commonly used libraries used by Data scientists include:***\n",
    "## 1. Python : \n",
    " - Data manipulation: pandas and NumPy\n",
    " - Visualizations: Matplotlib and seaborn\n",
    " - Hypothesis testing and model fitting: SciPy, scikit-learn, and statsmodels\n",
    " ## 2. R:\n",
    " - Collection of data science packages: tidyverse\n",
    " - Data manipulation: dplyr (also contained in tidyverse)\n",
    " - Visualizations: ggplot2 (also contained in tidyverse)\n",
    " - Classification and regression: caret\n",
    " ## 3. Other Libraries :\n",
    " - SAS: Built for advanced analytics, business intelligence, and predictive analytics. SAS is commonly used in the health sciences, banking, and insurance.\n",
    " - Stata: Used in economics research, public policy, and the social sciences. Stata is designed for anything from simple descriptive analysis to complex statistical modeling.\n",
    " - Scala: A powerful language able to handle large amounts of data. Scala runs on the Java Virtual Machine, which means it integrates well with Java programs.\n",
    " - Julia: A newer programming language designed for numerical analysis and computational scientific analysis. It’s useful for applications in physics, chemistry,   astronomy, engineering, bioinformatics, and more."
   ]
  },
  {
   "cell_type": "markdown",
   "metadata": {
    "tags": []
   },
   "source": [
    "## ***Open Source tools for Data Science*** :\n",
    "|Data Science Tools|\n",
    "|------------------|\n",
    "|RStudio|\n",
    "|Apache Spark|\n",
    "|TensorFlow|\n",
    "|Hadoop|"
   ]
  },
  {
   "cell_type": "markdown",
   "metadata": {},
   "source": [
    "### ***Below are few examples of evaluating arithmetic expressions in python.***"
   ]
  },
  {
   "cell_type": "code",
   "execution_count": 54,
   "metadata": {
    "tags": []
   },
   "outputs": [
    {
     "name": "stdout",
     "output_type": "stream",
     "text": [
      "700\n"
     ]
    }
   ],
   "source": [
    "Y = 7\n",
    "x = 100\n",
    "z = x * Y\n",
    "print(z)"
   ]
  },
  {
   "cell_type": "code",
   "execution_count": 52,
   "metadata": {
    "tags": []
   },
   "outputs": [
    {
     "name": "stdout",
     "output_type": "stream",
     "text": [
      "Variable z is now {55.65}\n"
     ]
    }
   ],
   "source": [
    "x = 3.5\n",
    "y = 10.15\n",
    "z = None\n",
    "\n",
    "if x < y:\n",
    "    z = 13\n",
    "    s = (z*x)+y\n",
    "print(\"Variable z is now\",{(z*x)+y})"
   ]
  },
  {
   "cell_type": "code",
   "execution_count": 53,
   "metadata": {
    "tags": []
   },
   "outputs": [
    {
     "data": {
      "text/plain": [
       "89.99427100668994"
      ]
     },
     "execution_count": 53,
     "metadata": {},
     "output_type": "execute_result"
    }
   ],
   "source": [
    "A = 7\n",
    "B = 7\n",
    "C = 9.899\n",
    "from math import acos, degrees\n",
    "degrees(acos((A * A + B * B - C * C)/(2.0 * A * B)))"
   ]
  },
  {
   "cell_type": "markdown",
   "metadata": {},
   "source": [
    "### ***This is an arithmetic expression to multiply then add integers.***"
   ]
  },
  {
   "cell_type": "code",
   "execution_count": 55,
   "metadata": {
    "tags": []
   },
   "outputs": [
    {
     "data": {
      "text/plain": [
       "17"
      ]
     },
     "execution_count": 55,
     "metadata": {},
     "output_type": "execute_result"
    }
   ],
   "source": [
    "(3*4)+5"
   ]
  },
  {
   "cell_type": "markdown",
   "metadata": {
    "tags": []
   },
   "source": [
    "### ***This will convert 200 Minutes to Hours by dividing by 60.***"
   ]
  },
  {
   "cell_type": "code",
   "execution_count": 57,
   "metadata": {
    "tags": []
   },
   "outputs": [
    {
     "data": {
      "text/plain": [
       "3.3333333333333335"
      ]
     },
     "execution_count": 57,
     "metadata": {},
     "output_type": "execute_result"
    }
   ],
   "source": [
    "200/60"
   ]
  },
  {
   "cell_type": "markdown",
   "metadata": {},
   "source": [
    "## ***Author***\n",
    "*Manar Hamad*"
   ]
  },
  {
   "cell_type": "code",
   "execution_count": null,
   "metadata": {},
   "outputs": [],
   "source": []
  }
 ],
 "metadata": {
  "kernelspec": {
   "display_name": "Python",
   "language": "python",
   "name": "conda-env-python-py"
  },
  "language_info": {
   "codemirror_mode": {
    "name": "ipython",
    "version": 3
   },
   "file_extension": ".py",
   "mimetype": "text/x-python",
   "name": "python",
   "nbconvert_exporter": "python",
   "pygments_lexer": "ipython3",
   "version": "3.7.12"
  }
 },
 "nbformat": 4,
 "nbformat_minor": 4
}
